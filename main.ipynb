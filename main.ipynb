{
 "cells": [
  {
   "cell_type": "code",
   "execution_count": null,
   "id": "8a48b3e8",
   "metadata": {},
   "outputs": [],
   "source": [
    "!pip install langchain langchain_core langchain_groq langchain_community "
   ]
  },
  {
   "cell_type": "code",
   "execution_count": null,
   "id": "582bbad7",
   "metadata": {},
   "outputs": [],
   "source": [
    "!pip install langgraph"
   ]
  },
  {
   "cell_type": "code",
   "execution_count": null,
   "id": "df7d25c9",
   "metadata": {},
   "outputs": [],
   "source": [
    "import os\n",
    "from typing import TypedDict , Annotated , List\n",
    "from langgraph.graph import StateGraph,END \n",
    "from langchain_core.messages import HumanMessage , AIMessage\n",
    "from langchain_core.prompts import ChatMessagePromptTemplate , ChatPromptTemplate\n",
    "from langchain_core.runnables.graph import MermaidDrawMethod\n",
    "from IPython.display import display,Image"
   ]
  },
  {
   "cell_type": "code",
   "execution_count": null,
   "id": "6bcdc8bb",
   "metadata": {},
   "outputs": [],
   "source": [
    "class PlanState(TypedDict):\n",
    "    messages: Annotated[List[HumanMessage | AIMessage],\"conversation\"]\n",
    "    city : str\n",
    "    interest : List[str]\n",
    "    itinerary : str"
   ]
  },
  {
   "cell_type": "code",
   "execution_count": null,
   "id": "1bdafd8a",
   "metadata": {},
   "outputs": [],
   "source": [
    "!pip install python-dotenv\n"
   ]
  },
  {
   "cell_type": "code",
   "execution_count": null,
   "id": "eb40f42a",
   "metadata": {},
   "outputs": [],
   "source": [
    "from langchain_groq import ChatGroq\n",
    "from dotenv import load_dotenv\n",
    "load_dotenv()\n",
    "\n",
    "llm = ChatGroq(\n",
    "    temperature = 0,\n",
    "    groq_api_key = os.getenv(\"GROQ_API\"),\n",
    "    model_name = \"llama-3.3-70b-versatile\",\n",
    ")\n",
    "\n"
   ]
  },
  {
   "cell_type": "code",
   "execution_count": null,
   "id": "207ede8e",
   "metadata": {},
   "outputs": [],
   "source": [
    "itinerary_prompt = ChatPromptTemplate.from_messages([\n",
    "    (\"system\",\"You are a helpful assistant. Creae a day trip itinerary for {city} based on the user's interests: {interest}. Provide a brief, bulleted itinerary.\"),\n",
    "    (\"human\",\"create an itinerary for my day trip\")\n",
    "])"
   ]
  },
  {
   "cell_type": "code",
   "execution_count": null,
   "id": "849c9f57",
   "metadata": {},
   "outputs": [],
   "source": [
    "def cityinput(state:PlanState) -> PlanState:\n",
    "    print(\"Please enter the city you want to visit for your day trip: \")\n",
    "    user_message = input(\"Your Input: \")\n",
    "    return {\n",
    "        **state,\n",
    "        \"city\": user_message,\n",
    "        \"messages\": state['messages'] + [HumanMessage(content=user_message)]\n",
    "    }\n",
    "\n",
    "def interestsinput(state:PlanState) -> PlanState:\n",
    "    print(f\"Please enter the city: {state['city']} (comma-separted)\")\n",
    "    user_message = input(\"input: \")\n",
    "    return {**state,\"interest\":[interest.strip() for interest in user_message.split(\",\")],\"messages\": state[\"messages\"] + [HumanMessage(content=user_message)]}\n",
    "\n",
    "def itinerary(state:PlanState) -> PlanState:\n",
    "    print(f\"Creating an itinerary for {state['city']} based on interests : {', '.join(state['interest'])}\")\n",
    "    response = llm.invoke(itinerary_prompt.format_messages(city = state['city'], interest = ','.join(state['interest'])))\n",
    "    print(\"\\nFinal Itinerary: \")\n",
    "    print(response.content)\n",
    "    return {**state,\"messages\": state[\"messages\"] + [AIMessage(content=response.content)],\"itinerary\":response.content}"
   ]
  },
  {
   "cell_type": "code",
   "execution_count": null,
   "id": "f559460a",
   "metadata": {},
   "outputs": [],
   "source": [
    "workflow = StateGraph(PlanState)\n",
    "\n",
    "workflow.add_node(\"cityinput\",cityinput)\n",
    "workflow.add_node(\"interestsinput\",interestsinput)\n",
    "workflow.add_node(\"itinerary\",itinerary)\n",
    "\n",
    "workflow.set_entry_point(\"cityinput\")\n",
    "\n",
    "workflow.add_edge(\"cityinput\",\"interestsinput\")\n",
    "workflow.add_edge(\"interestsinput\",\"itinerary\")\n",
    "workflow.add_edge(\"itinerary\",END)\n",
    "\n",
    "app = workflow.compile()"
   ]
  },
  {
   "cell_type": "code",
   "execution_count": null,
   "id": "76802f0d",
   "metadata": {},
   "outputs": [],
   "source": [
    "display(\n",
    "    Image(app.get_graph().draw_mermaid_png(\n",
    "        draw_method=MermaidDrawMethod.API\n",
    "    ))\n",
    ")"
   ]
  },
  {
   "cell_type": "code",
   "execution_count": null,
   "id": "2272a95c",
   "metadata": {},
   "outputs": [],
   "source": [
    "def travel(city: str, interest: str):\n",
    "\n",
    "    print(\"intial\")\n",
    "\n",
    "    state = {\n",
    "        \"messages\":\"\",\n",
    "        \"city\":\"\",\n",
    "        \"interest\":[],\n",
    "        \"itinerary\":\"\",\n",
    "    }\n",
    "\n",
    "    state = cityinput(city, state)\n",
    "    state = interestsinput(interest, state)\n",
    "\n",
    "    itinerary_res = itinerary(state)\n",
    "\n",
    "    return itinerary_res\n"
   ]
  },
  {
   "cell_type": "code",
   "execution_count": null,
   "id": "0bfd0813",
   "metadata": {},
   "outputs": [],
   "source": [
    "!pip install gradio"
   ]
  },
  {
   "cell_type": "code",
   "execution_count": null,
   "id": "fbfa1913",
   "metadata": {},
   "outputs": [],
   "source": [
    "import gradio as gr\n",
    "interface = gr.Interface(\n",
    "    fn=travel,\n",
    "    theme='Yntec/HaleyCH_Theme_Orange_Green',\n",
    "    inputs=[\n",
    "        gr.Textbox(label=\"Enter the city for your day trip\"),\n",
    "        gr.Textbox(label=\"Enter your interests (comma-separated)\"),\n",
    "    ],\n",
    "    outputs=gr.Textbox(label=\"Generated Itinerary\"),\n",
    "    title=\"Travel Itinerary Planner\",\n",
    "    description=\"Enter a city and your interests to generate a personalized day trip itinerary.\"\n",
    ")\n",
    "\n",
    "interface.launch()\n"
   ]
  },
  {
   "cell_type": "code",
   "execution_count": 48,
   "id": "10345cff",
   "metadata": {},
   "outputs": [
    {
     "name": "stdout",
     "output_type": "stream",
     "text": [
      "* Running on local URL:  http://127.0.0.1:7861\n",
      "* To create a public link, set `share=True` in `launch()`.\n"
     ]
    },
    {
     "data": {
      "text/html": [
       "<div><iframe src=\"http://127.0.0.1:7861/\" width=\"100%\" height=\"500\" allow=\"autoplay; camera; microphone; clipboard-read; clipboard-write;\" frameborder=\"0\" allowfullscreen></iframe></div>"
      ],
      "text/plain": [
       "<IPython.core.display.HTML object>"
      ]
     },
     "metadata": {},
     "output_type": "display_data"
    },
    {
     "data": {
      "text/plain": []
     },
     "execution_count": 48,
     "metadata": {},
     "output_type": "execute_result"
    }
   ],
   "source": [
    "import gradio as gr\n",
    "from typing import TypedDict, Annotated, List\n",
    "from langgraph.graph import StateGraph, END\n",
    "from langchain_core.messages import HumanMessage, AIMessage\n",
    "from langchain_core.prompts import ChatPromptTemplate\n",
    "from langchain_groq import ChatGroq\n",
    "from dotenv import load_dotenv\n",
    "load_dotenv()\n",
    "\n",
    "class PlannerState(TypedDict):\n",
    "    messages: Annotated[List[HumanMessage | AIMessage], \"The messages in the conversation\"]\n",
    "    city: str\n",
    "    interests: List[str]\n",
    "    itinerary: str\n",
    "\n",
    "llm = ChatGroq(\n",
    "    temperature=0,\n",
    "    groq_api_key=os.getenv(\"GROQ_API\"),\n",
    "    model_name=\"llama-3.3-70b-versatile\"\n",
    ")\n",
    "\n",
    "itinerary_prompt = ChatPromptTemplate.from_messages([\n",
    "    (\"system\", \"You are a helpful travel assistant. Create a day trip itinerary for {city} based on the user's interests: {interests}. Provide a brief, bulleted itinerary.\"),\n",
    "    (\"human\", \"Create an itinerary for my day trip.\"),\n",
    "])\n",
    "\n",
    "def input_city(city: str, state: PlannerState) -> PlannerState:\n",
    "    return {\n",
    "        **state,\n",
    "        \"city\": city,\n",
    "        \"messages\": state['messages'] + [HumanMessage(content=city)],\n",
    "    }\n",
    "\n",
    "def input_interests(interests: str, state: PlannerState) -> PlannerState:\n",
    "    return {\n",
    "        **state,\n",
    "        \"interests\": [interest.strip() for interest in interests.split(',')],\n",
    "        \"messages\": state['messages'] + [HumanMessage(content=interests)],\n",
    "    }\n",
    "\n",
    "def create_itinerary(state: PlannerState) -> str:\n",
    "    response = llm.invoke(itinerary_prompt.format_messages(city=state['city'], interests=\", \".join(state['interests'])))\n",
    "    state[\"itinerary\"] = response.content\n",
    "    state[\"messages\"] += [AIMessage(content=response.content)]\n",
    "    return response.content\n",
    "\n",
    "def travel_planner(city: str, interests: str):\n",
    "    state = {\n",
    "        \"messages\": [],\n",
    "        \"city\": \"\",\n",
    "        \"interests\": [],\n",
    "        \"itinerary\": \"\",\n",
    "    }\n",
    "\n",
    "    state = input_city(city, state)\n",
    "    state = input_interests(interests, state)\n",
    "\n",
    "    itinerary = create_itinerary(state)\n",
    "\n",
    "    return itinerary\n",
    "\n",
    "interface = gr.Interface(\n",
    "    fn=travel_planner,\n",
    "    theme='Yntec/HaleyCH_Theme_Orange_Green',\n",
    "    inputs=[\n",
    "        gr.Textbox(label=\"Enter the city for your day trip\"),\n",
    "        gr.Textbox(label=\"Enter your interests (comma-separated)\"),\n",
    "    ],\n",
    "    outputs=gr.Textbox(label=\"Generated Itinerary\"),\n",
    "    title=\"Travel Itinerary Planner\",\n",
    "    description=\"Enter a city and your interests to generate a personalized day trip itinerary.\"\n",
    ")\n",
    "\n",
    "interface.launch()\n"
   ]
  },
  {
   "cell_type": "code",
   "execution_count": null,
   "id": "27b8aac8",
   "metadata": {},
   "outputs": [],
   "source": []
  },
  {
   "cell_type": "code",
   "execution_count": null,
   "id": "cf2c76a7",
   "metadata": {},
   "outputs": [],
   "source": []
  }
 ],
 "metadata": {
  "kernelspec": {
   "display_name": "Python 3",
   "language": "python",
   "name": "python3"
  },
  "language_info": {
   "codemirror_mode": {
    "name": "ipython",
    "version": 3
   },
   "file_extension": ".py",
   "mimetype": "text/x-python",
   "name": "python",
   "nbconvert_exporter": "python",
   "pygments_lexer": "ipython3",
   "version": "3.10.11"
  }
 },
 "nbformat": 4,
 "nbformat_minor": 5
}
