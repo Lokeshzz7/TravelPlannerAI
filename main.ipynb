{
 "cells": [
  {
   "cell_type": "code",
   "execution_count": 1,
   "id": "8a48b3e8",
   "metadata": {},
   "outputs": [
    {
     "name": "stdout",
     "output_type": "stream",
     "text": [
      "Collecting langchain\n",
      "  Downloading langchain-0.3.27-py3-none-any.whl (1.0 MB)\n",
      "     ---------------------------------------- 0.0/1.0 MB ? eta -:--:--\n",
      "     ---- ----------------------------------- 0.1/1.0 MB 2.4 MB/s eta 0:00:01\n",
      "     ---------- ----------------------------- 0.3/1.0 MB 2.8 MB/s eta 0:00:01\n",
      "     ----------------- ---------------------- 0.5/1.0 MB 3.1 MB/s eta 0:00:01\n",
      "     ------------------------ --------------- 0.6/1.0 MB 3.2 MB/s eta 0:00:01\n",
      "     ------------------------------- -------- 0.8/1.0 MB 3.4 MB/s eta 0:00:01\n",
      "     ------------------------------------- -- 0.9/1.0 MB 3.5 MB/s eta 0:00:01\n",
      "     ---------------------------------------- 1.0/1.0 MB 3.2 MB/s eta 0:00:00\n",
      "Collecting langchain_core\n",
      "  Downloading langchain_core-0.3.75-py3-none-any.whl (443 kB)\n",
      "     ---------------------------------------- 0.0/444.0 kB ? eta -:--:--\n",
      "     -------------- ----------------------- 163.8/444.0 kB 3.3 MB/s eta 0:00:01\n",
      "     -------------------------- ----------- 307.2/444.0 kB 3.2 MB/s eta 0:00:01\n",
      "     -------------------------------------- 444.0/444.0 kB 3.1 MB/s eta 0:00:00\n",
      "Collecting langchain_groq\n",
      "  Downloading langchain_groq-0.3.8-py3-none-any.whl (16 kB)\n",
      "Collecting langchain_community\n",
      "  Downloading langchain_community-0.3.29-py3-none-any.whl (2.5 MB)\n",
      "     ---------------------------------------- 0.0/2.5 MB ? eta -:--:--\n",
      "     -- ------------------------------------- 0.2/2.5 MB 5.1 MB/s eta 0:00:01\n",
      "     ----- ---------------------------------- 0.3/2.5 MB 4.0 MB/s eta 0:00:01\n",
      "     ------- -------------------------------- 0.5/2.5 MB 3.8 MB/s eta 0:00:01\n",
      "     ---------- ----------------------------- 0.6/2.5 MB 4.0 MB/s eta 0:00:01\n",
      "     ------------ --------------------------- 0.8/2.5 MB 3.9 MB/s eta 0:00:01\n",
      "     --------------- ------------------------ 1.0/2.5 MB 3.8 MB/s eta 0:00:01\n",
      "     ------------------ --------------------- 1.2/2.5 MB 3.9 MB/s eta 0:00:01\n",
      "     --------------------- ------------------ 1.3/2.5 MB 3.8 MB/s eta 0:00:01\n",
      "     ----------------------- ---------------- 1.5/2.5 MB 3.9 MB/s eta 0:00:01\n",
      "     --------------------------- ------------ 1.7/2.5 MB 4.0 MB/s eta 0:00:01\n",
      "     ----------------------------- ---------- 1.9/2.5 MB 4.0 MB/s eta 0:00:01\n",
      "     -------------------------------- ------- 2.0/2.5 MB 3.9 MB/s eta 0:00:01\n",
      "     ---------------------------------- ----- 2.2/2.5 MB 3.9 MB/s eta 0:00:01\n",
      "     ------------------------------------- -- 2.4/2.5 MB 3.9 MB/s eta 0:00:01\n",
      "     ---------------------------------------  2.5/2.5 MB 3.7 MB/s eta 0:00:01\n",
      "     ---------------------------------------- 2.5/2.5 MB 3.8 MB/s eta 0:00:00\n",
      "Collecting langchain-text-splitters<1.0.0,>=0.3.9\n",
      "  Downloading langchain_text_splitters-0.3.11-py3-none-any.whl (33 kB)\n",
      "Requirement already satisfied: PyYAML>=5.3 in c:\\users\\waran\\appdata\\local\\programs\\python\\python310\\lib\\site-packages (from langchain) (6.0.2)\n",
      "Collecting SQLAlchemy<3,>=1.4\n",
      "  Downloading sqlalchemy-2.0.43-cp310-cp310-win_amd64.whl (2.1 MB)\n",
      "     ---------------------------------------- 0.0/2.1 MB ? eta -:--:--\n",
      "     ----- ---------------------------------- 0.3/2.1 MB 5.4 MB/s eta 0:00:01\n",
      "     -------- ------------------------------- 0.4/2.1 MB 4.5 MB/s eta 0:00:01\n",
      "     ----------- ---------------------------- 0.6/2.1 MB 4.7 MB/s eta 0:00:01\n",
      "     -------------- ------------------------- 0.8/2.1 MB 4.3 MB/s eta 0:00:01\n",
      "     ----------------- ---------------------- 0.9/2.1 MB 4.1 MB/s eta 0:00:01\n",
      "     -------------------- ------------------- 1.1/2.1 MB 4.0 MB/s eta 0:00:01\n",
      "     ---------------------- ----------------- 1.2/2.1 MB 4.0 MB/s eta 0:00:01\n",
      "     -------------------------- ------------- 1.4/2.1 MB 4.0 MB/s eta 0:00:01\n",
      "     ----------------------------- ---------- 1.6/2.1 MB 4.0 MB/s eta 0:00:01\n",
      "     -------------------------------- ------- 1.8/2.1 MB 4.0 MB/s eta 0:00:01\n",
      "     ------------------------------------ --- 1.9/2.1 MB 3.9 MB/s eta 0:00:01\n",
      "     ---------------------------------------  2.1/2.1 MB 4.0 MB/s eta 0:00:01\n",
      "     ---------------------------------------- 2.1/2.1 MB 3.8 MB/s eta 0:00:00\n",
      "Requirement already satisfied: requests<3,>=2 in c:\\users\\waran\\appdata\\local\\programs\\python\\python310\\lib\\site-packages (from langchain) (2.32.4)\n",
      "Collecting langsmith>=0.1.17\n",
      "  Downloading langsmith-0.4.27-py3-none-any.whl (384 kB)\n",
      "     ---------------------------------------- 0.0/384.8 kB ? eta -:--:--\n",
      "     --------------- ---------------------- 153.6/384.8 kB 4.6 MB/s eta 0:00:01\n",
      "     ---------------------------------- --- 348.2/384.8 kB 4.3 MB/s eta 0:00:01\n",
      "     -------------------------------------- 384.8/384.8 kB 4.0 MB/s eta 0:00:00\n",
      "Collecting pydantic<3.0.0,>=2.7.4\n",
      "  Using cached pydantic-2.11.7-py3-none-any.whl (444 kB)\n",
      "Collecting async-timeout<5.0.0,>=4.0.0\n",
      "  Using cached async_timeout-4.0.3-py3-none-any.whl (5.7 kB)\n",
      "Requirement already satisfied: typing-extensions>=4.7 in c:\\users\\waran\\appdata\\roaming\\python\\python310\\site-packages (from langchain_core) (4.14.1)\n",
      "Collecting tenacity!=8.4.0,<10.0.0,>=8.1.0\n",
      "  Using cached tenacity-9.1.2-py3-none-any.whl (28 kB)\n",
      "Requirement already satisfied: packaging>=23.2 in c:\\users\\waran\\appdata\\roaming\\python\\python310\\site-packages (from langchain_core) (25.0)\n",
      "Collecting jsonpatch<2.0,>=1.33\n",
      "  Using cached jsonpatch-1.33-py2.py3-none-any.whl (12 kB)\n",
      "Collecting groq<1,>=0.30.0\n",
      "  Downloading groq-0.31.1-py3-none-any.whl (134 kB)\n",
      "     ---------------------------------------- 0.0/134.9 kB ? eta -:--:--\n",
      "     -------------------------------------- 134.9/134.9 kB 4.0 MB/s eta 0:00:00\n",
      "Requirement already satisfied: numpy>=1.26.2 in c:\\users\\waran\\appdata\\local\\programs\\python\\python310\\lib\\site-packages (from langchain_community) (2.2.6)\n",
      "Collecting httpx-sse<1.0.0,>=0.4.0\n",
      "  Downloading httpx_sse-0.4.1-py3-none-any.whl (8.1 kB)\n",
      "Collecting aiohttp<4.0.0,>=3.8.3\n",
      "  Downloading aiohttp-3.12.15-cp310-cp310-win_amd64.whl (452 kB)\n",
      "     ---------------------------------------- 0.0/452.3 kB ? eta -:--:--\n",
      "     --------- ---------------------------- 112.6/452.3 kB 2.2 MB/s eta 0:00:01\n",
      "     ----------------- -------------------- 204.8/452.3 kB 2.5 MB/s eta 0:00:01\n",
      "     ------------------------- ------------ 307.2/452.3 kB 2.4 MB/s eta 0:00:01\n",
      "     ---------------------------------- --- 409.6/452.3 kB 2.3 MB/s eta 0:00:01\n",
      "     -------------------------------------- 452.3/452.3 kB 2.2 MB/s eta 0:00:00\n",
      "Collecting pydantic-settings<3.0.0,>=2.10.1\n",
      "  Downloading pydantic_settings-2.10.1-py3-none-any.whl (45 kB)\n",
      "     ---------------------------------------- 0.0/45.2 kB ? eta -:--:--\n",
      "     ---------------------------------------- 45.2/45.2 kB 2.3 MB/s eta 0:00:00\n",
      "Collecting dataclasses-json<0.7,>=0.6.7\n",
      "  Downloading dataclasses_json-0.6.7-py3-none-any.whl (28 kB)\n",
      "Collecting requests<3,>=2\n",
      "  Using cached requests-2.32.5-py3-none-any.whl (64 kB)\n",
      "Collecting multidict<7.0,>=4.5\n",
      "  Downloading multidict-6.6.4-cp310-cp310-win_amd64.whl (46 kB)\n",
      "     ---------------------------------------- 0.0/46.0 kB ? eta -:--:--\n",
      "     ---------------------------------------- 46.0/46.0 kB 2.2 MB/s eta 0:00:00\n",
      "Requirement already satisfied: attrs>=17.3.0 in c:\\users\\waran\\appdata\\local\\programs\\python\\python310\\lib\\site-packages (from aiohttp<4.0.0,>=3.8.3->langchain_community) (25.3.0)\n",
      "Collecting aiohappyeyeballs>=2.5.0\n",
      "  Downloading aiohappyeyeballs-2.6.1-py3-none-any.whl (15 kB)\n",
      "Collecting yarl<2.0,>=1.17.0\n",
      "  Downloading yarl-1.20.1-cp310-cp310-win_amd64.whl (86 kB)\n",
      "     ---------------------------------------- 0.0/86.8 kB ? eta -:--:--\n",
      "     ---------------------------------------- 86.8/86.8 kB 2.5 MB/s eta 0:00:00\n",
      "Collecting propcache>=0.2.0\n",
      "  Downloading propcache-0.3.2-cp310-cp310-win_amd64.whl (41 kB)\n",
      "     ---------------------------------------- 0.0/41.5 kB ? eta -:--:--\n",
      "     ---------------------------------------- 41.5/41.5 kB 2.0 MB/s eta 0:00:00\n",
      "Collecting frozenlist>=1.1.1\n",
      "  Downloading frozenlist-1.7.0-cp310-cp310-win_amd64.whl (43 kB)\n",
      "     ---------------------------------------- 0.0/43.8 kB ? eta -:--:--\n",
      "     ---------------------------------------- 43.8/43.8 kB 2.2 MB/s eta 0:00:00\n",
      "Collecting aiosignal>=1.4.0\n",
      "  Downloading aiosignal-1.4.0-py3-none-any.whl (7.5 kB)\n",
      "Collecting typing-inspect<1,>=0.4.0\n",
      "  Downloading typing_inspect-0.9.0-py3-none-any.whl (8.8 kB)\n",
      "Collecting marshmallow<4.0.0,>=3.18.0\n",
      "  Downloading marshmallow-3.26.1-py3-none-any.whl (50 kB)\n",
      "     ---------------------------------------- 0.0/50.9 kB ? eta -:--:--\n",
      "     ---------------------------------------- 50.9/50.9 kB 2.7 MB/s eta 0:00:00\n",
      "Requirement already satisfied: anyio<5,>=3.5.0 in c:\\users\\waran\\appdata\\local\\programs\\python\\python310\\lib\\site-packages (from groq<1,>=0.30.0->langchain_groq) (4.9.0)\n",
      "Requirement already satisfied: sniffio in c:\\users\\waran\\appdata\\local\\programs\\python\\python310\\lib\\site-packages (from groq<1,>=0.30.0->langchain_groq) (1.3.1)\n",
      "Requirement already satisfied: httpx<1,>=0.23.0 in c:\\users\\waran\\appdata\\local\\programs\\python\\python310\\lib\\site-packages (from groq<1,>=0.30.0->langchain_groq) (0.28.1)\n",
      "Collecting distro<2,>=1.7.0\n",
      "  Downloading distro-1.9.0-py3-none-any.whl (20 kB)\n",
      "Requirement already satisfied: jsonpointer>=1.9 in c:\\users\\waran\\appdata\\local\\programs\\python\\python310\\lib\\site-packages (from jsonpatch<2.0,>=1.33->langchain_core) (3.0.0)\n",
      "Collecting orjson>=3.9.14\n",
      "  Using cached orjson-3.11.3-cp310-cp310-win_amd64.whl (131 kB)\n",
      "Collecting zstandard>=0.23.0\n",
      "  Downloading zstandard-0.24.0-cp310-cp310-win_amd64.whl (505 kB)\n",
      "     ---------------------------------------- 0.0/505.1 kB ? eta -:--:--\n",
      "     --------- ---------------------------- 122.9/505.1 kB 3.5 MB/s eta 0:00:01\n",
      "     ------------------ ------------------- 245.8/505.1 kB 3.7 MB/s eta 0:00:01\n",
      "     ----------------------------- -------- 389.1/505.1 kB 3.4 MB/s eta 0:00:01\n",
      "     ------------------------------------ - 491.5/505.1 kB 3.1 MB/s eta 0:00:01\n",
      "     -------------------------------------- 505.1/505.1 kB 2.9 MB/s eta 0:00:00\n",
      "Collecting requests-toolbelt>=1.0.0\n",
      "  Using cached requests_toolbelt-1.0.0-py2.py3-none-any.whl (54 kB)\n",
      "Collecting annotated-types>=0.6.0\n",
      "  Using cached annotated_types-0.7.0-py3-none-any.whl (13 kB)\n",
      "Collecting pydantic-core==2.33.2\n",
      "  Using cached pydantic_core-2.33.2-cp310-cp310-win_amd64.whl (2.0 MB)\n",
      "Collecting typing-inspection>=0.4.0\n",
      "  Using cached typing_inspection-0.4.1-py3-none-any.whl (14 kB)\n",
      "Collecting python-dotenv>=0.21.0\n",
      "  Using cached python_dotenv-1.1.1-py3-none-any.whl (20 kB)\n",
      "Requirement already satisfied: certifi>=2017.4.17 in c:\\users\\waran\\appdata\\local\\programs\\python\\python310\\lib\\site-packages (from requests<3,>=2->langchain) (2025.7.14)\n",
      "Requirement already satisfied: urllib3<3,>=1.21.1 in c:\\users\\waran\\appdata\\local\\programs\\python\\python310\\lib\\site-packages (from requests<3,>=2->langchain) (2.5.0)\n",
      "Requirement already satisfied: charset_normalizer<4,>=2 in c:\\users\\waran\\appdata\\local\\programs\\python\\python310\\lib\\site-packages (from requests<3,>=2->langchain) (3.4.2)\n",
      "Requirement already satisfied: idna<4,>=2.5 in c:\\users\\waran\\appdata\\local\\programs\\python\\python310\\lib\\site-packages (from requests<3,>=2->langchain) (3.10)\n",
      "Collecting greenlet>=1\n",
      "  Downloading greenlet-3.2.4-cp310-cp310-win_amd64.whl (298 kB)\n",
      "     ---------------------------------------- 0.0/298.7 kB ? eta -:--:--\n",
      "     ------------------ ------------------- 143.4/298.7 kB 4.2 MB/s eta 0:00:01\n",
      "     ----------------------------------- -- 276.5/298.7 kB 3.4 MB/s eta 0:00:01\n",
      "     -------------------------------------- 298.7/298.7 kB 3.1 MB/s eta 0:00:00\n",
      "Requirement already satisfied: exceptiongroup>=1.0.2 in c:\\users\\waran\\appdata\\roaming\\python\\python310\\site-packages (from anyio<5,>=3.5.0->groq<1,>=0.30.0->langchain_groq) (1.3.0)\n",
      "Requirement already satisfied: httpcore==1.* in c:\\users\\waran\\appdata\\local\\programs\\python\\python310\\lib\\site-packages (from httpx<1,>=0.23.0->groq<1,>=0.30.0->langchain_groq) (1.0.9)\n",
      "Requirement already satisfied: h11>=0.16 in c:\\users\\waran\\appdata\\local\\programs\\python\\python310\\lib\\site-packages (from httpcore==1.*->httpx<1,>=0.23.0->groq<1,>=0.30.0->langchain_groq) (0.16.0)\n",
      "Collecting mypy-extensions>=0.3.0\n",
      "  Downloading mypy_extensions-1.1.0-py3-none-any.whl (5.0 kB)\n",
      "Installing collected packages: zstandard, typing-inspection, tenacity, requests, python-dotenv, pydantic-core, propcache, orjson, mypy-extensions, multidict, marshmallow, jsonpatch, httpx-sse, greenlet, frozenlist, distro, async-timeout, annotated-types, aiohappyeyeballs, yarl, typing-inspect, SQLAlchemy, requests-toolbelt, pydantic, aiosignal, pydantic-settings, dataclasses-json, aiohttp, langsmith, groq, langchain_core, langchain-text-splitters, langchain_groq, langchain, langchain_community\n",
      "  Attempting uninstall: requests\n",
      "    Found existing installation: requests 2.32.4\n",
      "    Uninstalling requests-2.32.4:\n",
      "      Successfully uninstalled requests-2.32.4\n",
      "Successfully installed SQLAlchemy-2.0.43 aiohappyeyeballs-2.6.1 aiohttp-3.12.15 aiosignal-1.4.0 annotated-types-0.7.0 async-timeout-4.0.3 dataclasses-json-0.6.7 distro-1.9.0 frozenlist-1.7.0 greenlet-3.2.4 groq-0.31.1 httpx-sse-0.4.1 jsonpatch-1.33 langchain-0.3.27 langchain-text-splitters-0.3.11 langchain_community-0.3.29 langchain_core-0.3.75 langchain_groq-0.3.8 langsmith-0.4.27 marshmallow-3.26.1 multidict-6.6.4 mypy-extensions-1.1.0 orjson-3.11.3 propcache-0.3.2 pydantic-2.11.7 pydantic-core-2.33.2 pydantic-settings-2.10.1 python-dotenv-1.1.1 requests-2.32.5 requests-toolbelt-1.0.0 tenacity-9.1.2 typing-inspect-0.9.0 typing-inspection-0.4.1 yarl-1.20.1 zstandard-0.24.0\n"
     ]
    },
    {
     "name": "stderr",
     "output_type": "stream",
     "text": [
      "\n",
      "[notice] A new release of pip is available: 23.0.1 -> 25.2\n",
      "[notice] To update, run: python.exe -m pip install --upgrade pip\n"
     ]
    }
   ],
   "source": [
    "!pip install langchain langchain_core langchain_groq langchain_community "
   ]
  },
  {
   "cell_type": "code",
   "execution_count": 2,
   "id": "582bbad7",
   "metadata": {},
   "outputs": [
    {
     "name": "stdout",
     "output_type": "stream",
     "text": [
      "Collecting langgraph\n",
      "  Downloading langgraph-0.6.7-py3-none-any.whl (153 kB)\n",
      "     ---------------------------------------- 0.0/153.3 kB ? eta -:--:--\n",
      "     ------------------------- ------------ 102.4/153.3 kB 3.0 MB/s eta 0:00:01\n",
      "     -------------------------------------- 153.3/153.3 kB 3.1 MB/s eta 0:00:00\n",
      "Collecting langgraph-prebuilt<0.7.0,>=0.6.0\n",
      "  Downloading langgraph_prebuilt-0.6.4-py3-none-any.whl (28 kB)\n",
      "Collecting xxhash>=3.5.0\n",
      "  Downloading xxhash-3.5.0-cp310-cp310-win_amd64.whl (30 kB)\n",
      "Collecting langgraph-checkpoint<3.0.0,>=2.1.0\n",
      "  Downloading langgraph_checkpoint-2.1.1-py3-none-any.whl (43 kB)\n",
      "     ---------------------------------------- 0.0/43.9 kB ? eta -:--:--\n",
      "     ---------------------------------------- 43.9/43.9 kB 2.1 MB/s eta 0:00:00\n",
      "Requirement already satisfied: langchain-core>=0.1 in c:\\users\\waran\\appdata\\local\\programs\\python\\python310\\lib\\site-packages (from langgraph) (0.3.75)\n",
      "Collecting langgraph-sdk<0.3.0,>=0.2.2\n",
      "  Downloading langgraph_sdk-0.2.6-py3-none-any.whl (54 kB)\n",
      "     ---------------------------------------- 0.0/54.6 kB ? eta -:--:--\n",
      "     ---------------------------------------- 54.6/54.6 kB ? eta 0:00:00\n",
      "Requirement already satisfied: pydantic>=2.7.4 in c:\\users\\waran\\appdata\\local\\programs\\python\\python310\\lib\\site-packages (from langgraph) (2.11.7)\n",
      "Requirement already satisfied: packaging>=23.2 in c:\\users\\waran\\appdata\\roaming\\python\\python310\\site-packages (from langchain-core>=0.1->langgraph) (25.0)\n",
      "Requirement already satisfied: tenacity!=8.4.0,<10.0.0,>=8.1.0 in c:\\users\\waran\\appdata\\local\\programs\\python\\python310\\lib\\site-packages (from langchain-core>=0.1->langgraph) (9.1.2)\n",
      "Requirement already satisfied: PyYAML>=5.3 in c:\\users\\waran\\appdata\\local\\programs\\python\\python310\\lib\\site-packages (from langchain-core>=0.1->langgraph) (6.0.2)\n",
      "Requirement already satisfied: jsonpatch<2.0,>=1.33 in c:\\users\\waran\\appdata\\local\\programs\\python\\python310\\lib\\site-packages (from langchain-core>=0.1->langgraph) (1.33)\n",
      "Requirement already satisfied: langsmith>=0.3.45 in c:\\users\\waran\\appdata\\local\\programs\\python\\python310\\lib\\site-packages (from langchain-core>=0.1->langgraph) (0.4.27)\n",
      "Requirement already satisfied: typing-extensions>=4.7 in c:\\users\\waran\\appdata\\roaming\\python\\python310\\site-packages (from langchain-core>=0.1->langgraph) (4.14.1)\n",
      "Collecting ormsgpack>=1.10.0\n",
      "  Downloading ormsgpack-1.10.0-cp310-cp310-win_amd64.whl (121 kB)\n",
      "     ---------------------------------------- 0.0/121.2 kB ? eta -:--:--\n",
      "     -------------------------------------- 121.2/121.2 kB 6.9 MB/s eta 0:00:00\n",
      "Requirement already satisfied: httpx>=0.25.2 in c:\\users\\waran\\appdata\\local\\programs\\python\\python310\\lib\\site-packages (from langgraph-sdk<0.3.0,>=0.2.2->langgraph) (0.28.1)\n",
      "Requirement already satisfied: orjson>=3.10.1 in c:\\users\\waran\\appdata\\local\\programs\\python\\python310\\lib\\site-packages (from langgraph-sdk<0.3.0,>=0.2.2->langgraph) (3.11.3)\n",
      "Requirement already satisfied: pydantic-core==2.33.2 in c:\\users\\waran\\appdata\\local\\programs\\python\\python310\\lib\\site-packages (from pydantic>=2.7.4->langgraph) (2.33.2)\n",
      "Requirement already satisfied: typing-inspection>=0.4.0 in c:\\users\\waran\\appdata\\local\\programs\\python\\python310\\lib\\site-packages (from pydantic>=2.7.4->langgraph) (0.4.1)\n",
      "Requirement already satisfied: annotated-types>=0.6.0 in c:\\users\\waran\\appdata\\local\\programs\\python\\python310\\lib\\site-packages (from pydantic>=2.7.4->langgraph) (0.7.0)\n",
      "Requirement already satisfied: certifi in c:\\users\\waran\\appdata\\local\\programs\\python\\python310\\lib\\site-packages (from httpx>=0.25.2->langgraph-sdk<0.3.0,>=0.2.2->langgraph) (2025.7.14)\n",
      "Requirement already satisfied: anyio in c:\\users\\waran\\appdata\\local\\programs\\python\\python310\\lib\\site-packages (from httpx>=0.25.2->langgraph-sdk<0.3.0,>=0.2.2->langgraph) (4.9.0)\n",
      "Requirement already satisfied: idna in c:\\users\\waran\\appdata\\local\\programs\\python\\python310\\lib\\site-packages (from httpx>=0.25.2->langgraph-sdk<0.3.0,>=0.2.2->langgraph) (3.10)\n",
      "Requirement already satisfied: httpcore==1.* in c:\\users\\waran\\appdata\\local\\programs\\python\\python310\\lib\\site-packages (from httpx>=0.25.2->langgraph-sdk<0.3.0,>=0.2.2->langgraph) (1.0.9)\n",
      "Requirement already satisfied: h11>=0.16 in c:\\users\\waran\\appdata\\local\\programs\\python\\python310\\lib\\site-packages (from httpcore==1.*->httpx>=0.25.2->langgraph-sdk<0.3.0,>=0.2.2->langgraph) (0.16.0)\n",
      "Requirement already satisfied: jsonpointer>=1.9 in c:\\users\\waran\\appdata\\local\\programs\\python\\python310\\lib\\site-packages (from jsonpatch<2.0,>=1.33->langchain-core>=0.1->langgraph) (3.0.0)\n",
      "Requirement already satisfied: requests-toolbelt>=1.0.0 in c:\\users\\waran\\appdata\\local\\programs\\python\\python310\\lib\\site-packages (from langsmith>=0.3.45->langchain-core>=0.1->langgraph) (1.0.0)\n",
      "Requirement already satisfied: requests>=2.0.0 in c:\\users\\waran\\appdata\\local\\programs\\python\\python310\\lib\\site-packages (from langsmith>=0.3.45->langchain-core>=0.1->langgraph) (2.32.5)\n",
      "Requirement already satisfied: zstandard>=0.23.0 in c:\\users\\waran\\appdata\\local\\programs\\python\\python310\\lib\\site-packages (from langsmith>=0.3.45->langchain-core>=0.1->langgraph) (0.24.0)\n",
      "Requirement already satisfied: urllib3<3,>=1.21.1 in c:\\users\\waran\\appdata\\local\\programs\\python\\python310\\lib\\site-packages (from requests>=2.0.0->langsmith>=0.3.45->langchain-core>=0.1->langgraph) (2.5.0)\n",
      "Requirement already satisfied: charset_normalizer<4,>=2 in c:\\users\\waran\\appdata\\local\\programs\\python\\python310\\lib\\site-packages (from requests>=2.0.0->langsmith>=0.3.45->langchain-core>=0.1->langgraph) (3.4.2)\n",
      "Requirement already satisfied: exceptiongroup>=1.0.2 in c:\\users\\waran\\appdata\\roaming\\python\\python310\\site-packages (from anyio->httpx>=0.25.2->langgraph-sdk<0.3.0,>=0.2.2->langgraph) (1.3.0)\n",
      "Requirement already satisfied: sniffio>=1.1 in c:\\users\\waran\\appdata\\local\\programs\\python\\python310\\lib\\site-packages (from anyio->httpx>=0.25.2->langgraph-sdk<0.3.0,>=0.2.2->langgraph) (1.3.1)\n",
      "Installing collected packages: xxhash, ormsgpack, langgraph-sdk, langgraph-checkpoint, langgraph-prebuilt, langgraph\n",
      "Successfully installed langgraph-0.6.7 langgraph-checkpoint-2.1.1 langgraph-prebuilt-0.6.4 langgraph-sdk-0.2.6 ormsgpack-1.10.0 xxhash-3.5.0\n"
     ]
    },
    {
     "name": "stderr",
     "output_type": "stream",
     "text": [
      "\n",
      "[notice] A new release of pip is available: 23.0.1 -> 25.2\n",
      "[notice] To update, run: python.exe -m pip install --upgrade pip\n"
     ]
    }
   ],
   "source": [
    "!pip install langgraph"
   ]
  },
  {
   "cell_type": "code",
   "execution_count": 9,
   "id": "df7d25c9",
   "metadata": {},
   "outputs": [],
   "source": [
    "import os\n",
    "from typing import TypedDict , Annotated , List\n",
    "from langgraph.graph import StateGraph,END \n",
    "from langchain_core.messages import HumanMessage , AIMessage\n",
    "from langchain_core.prompts import ChatMessagePromptTemplate , ChatPromptTemplate\n",
    "from langchain_core.runnables.graph import MermaidDrawMethod\n",
    "from IPython.display import display,Image"
   ]
  },
  {
   "cell_type": "code",
   "execution_count": 10,
   "id": "6bcdc8bb",
   "metadata": {},
   "outputs": [],
   "source": [
    "class PlanState(TypedDict):\n",
    "    messages: Annotated[List[HumanMessage | AIMessage],\"conversation\"]\n",
    "    city : str\n",
    "    interest : List[str]\n",
    "    itinerary : str"
   ]
  },
  {
   "cell_type": "code",
   "execution_count": 11,
   "id": "1bdafd8a",
   "metadata": {},
   "outputs": [
    {
     "name": "stdout",
     "output_type": "stream",
     "text": [
      "Requirement already satisfied: python-dotenv in c:\\users\\waran\\appdata\\local\\programs\\python\\python310\\lib\\site-packages (1.1.1)\n"
     ]
    },
    {
     "name": "stderr",
     "output_type": "stream",
     "text": [
      "\n",
      "[notice] A new release of pip is available: 23.0.1 -> 25.2\n",
      "[notice] To update, run: python.exe -m pip install --upgrade pip\n"
     ]
    }
   ],
   "source": [
    "!pip install python-dotenv\n"
   ]
  },
  {
   "cell_type": "code",
   "execution_count": 12,
   "id": "eb40f42a",
   "metadata": {},
   "outputs": [],
   "source": [
    "from langchain_groq import ChatGroq\n",
    "from dotenv import load_dotenv\n",
    "load_dotenv()\n",
    "\n",
    "llm = ChatGroq(\n",
    "    temperature = 0,\n",
    "    groq_api_key = os.getenv(\"GROQ_API\"),\n",
    "    model_name = \"llama-3.3-70b-versatile\",\n",
    ")\n",
    "\n"
   ]
  },
  {
   "cell_type": "code",
   "execution_count": 14,
   "id": "207ede8e",
   "metadata": {},
   "outputs": [
    {
     "data": {
      "text/plain": [
       "ChatPromptTemplate(input_variables=['city', 'interests'], input_types={}, partial_variables={}, messages=[SystemMessagePromptTemplate(prompt=PromptTemplate(input_variables=['city', 'interests'], input_types={}, partial_variables={}, template=\"You are a helpful assistant. Creae a day trip itinerary for {city} based on the user's interests: {interests}. Provide a brief, bulleted itinerary.\"), additional_kwargs={}), HumanMessagePromptTemplate(prompt=PromptTemplate(input_variables=[], input_types={}, partial_variables={}, template='create an itinerary for my day trip'), additional_kwargs={})])"
      ]
     },
     "execution_count": 14,
     "metadata": {},
     "output_type": "execute_result"
    }
   ],
   "source": [
    "ChatPromptTemplate.from_messages([\n",
    "    (\"system\",\"You are a helpful assistant. Creae a day trip itinerary for {city} based on the user's interests: {interests}. Provide a brief, bulleted itinerary.\"),\n",
    "    (\"human\",\"create an itinerary for my day trip\")\n",
    "])"
   ]
  },
  {
   "cell_type": "code",
   "execution_count": 15,
   "id": "849c9f57",
   "metadata": {},
   "outputs": [],
   "source": [
    "def cityinput(state:PlanState) -> PlanState:\n",
    "    print(\"Please enter the city you want to visit for your day trip: \")\n",
    "    user_message = input(\"Your Input: \")\n",
    "    return {\n",
    "        **state,\n",
    "        \"city\": user_message,\n",
    "        \"messages\": state['messages'] + [HumanMessage(content=user_message)]\n",
    "    }\n",
    "\n",
    "def interestsinput(state:PlanState) -> PlanState:\n",
    "    print(f\"Please enter the city: {state['city']} (comma-separted)\")\n",
    "    user_message = input(\"input: \")\n",
    "    return {**state,\"interests\":[interest.strip() for interest in user_message.split(\",\")],\"messages\": state[\"messages\"] + [HumanMessage(content=user_message)]}\n",
    "\n",
    "def itinerary(state:PlanState) -> PlanState:\n",
    "    print(f\"Creating an itinerary for {state['city']} based on interests : {', '.join(state['interests'])}\")\n",
    "    response = llm.invoke(itinerary_prompt.format_messages(city = state['city'], interests = ','.join(state['interests'])))\n",
    "    print(\"\\nFinal Itinerary: \")\n",
    "    print(response.content)\n",
    "    return {**state,\"messages\": state[\"messages\"] + [AIMessage(content=response.content)],\"itinerary\":response.content}"
   ]
  },
  {
   "cell_type": "code",
   "execution_count": 18,
   "id": "f559460a",
   "metadata": {},
   "outputs": [],
   "source": [
    "workflow = StateGraph(PlanState)\n",
    "\n",
    "workflow.add_node(\"cityinput\",cityinput)\n",
    "workflow.add_node(\"interestsinput\",interestsinput)\n",
    "workflow.add_node(\"itinerary\",itinerary)\n",
    "\n",
    "workflow.set_entry_point(\"cityinput\")\n",
    "\n",
    "workflow.add_edge(\"cityinput\",\"interestsinput\")\n",
    "workflow.add_edge(\"interestsinput\",\"itinerary\")\n",
    "workflow.add_edge(\"itinerary\",END)\n",
    "\n",
    "app = workflow.compile()"
   ]
  },
  {
   "cell_type": "code",
   "execution_count": 19,
   "id": "76802f0d",
   "metadata": {},
   "outputs": [
    {
     "data": {
      "image/png": "[encoded data removed]",
      "text/plain": [
       "<IPython.core.display.Image object>"
      ]
     },
     "metadata": {},
     "output_type": "display_data"
    }
   ],
   "source": [
    "display(\n",
    "    Image(app.get_graph().draw_mermaid_png(\n",
    "        draw_method=MermaidDrawMethod.API\n",
    "    ))\n",
    ")"
   ]
  },
  {
   "cell_type": "code",
   "execution_count": null,
   "id": "2272a95c",
   "metadata": {},
   "outputs": [],
   "source": []
  }
 ],
 "metadata": {
  "kernelspec": {
   "display_name": "Python 3",
   "language": "python",
   "name": "python3"
  },
  "language_info": {
   "codemirror_mode": {
    "name": "ipython",
    "version": 3
   },
   "file_extension": ".py",
   "mimetype": "text/x-python",
   "name": "python",
   "nbconvert_exporter": "python",
   "pygments_lexer": "ipython3",
   "version": "3.10.11"
  }
 },
 "nbformat": 4,
 "nbformat_minor": 5
}
